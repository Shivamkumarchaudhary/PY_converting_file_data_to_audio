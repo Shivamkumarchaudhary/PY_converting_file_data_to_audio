{
 "cells": [
  {
   "cell_type": "code",
   "execution_count": null,
   "id": "1f518ea5",
   "metadata": {},
   "outputs": [],
   "source": [
    "from gtts import gTTS \n",
    "  \n",
    "\n",
    "import os \n",
    "\n",
    "fh = open(\"Demo.txt\", 'r')\n",
    "\n",
    "myText = fh.read() \n",
    "\n",
    "# Google Speech Language Codes\n",
    "\n",
    "language = 'en'\n",
    "\n",
    "output = gTTS(text=myText, lang=language, slow=False)\n",
    "\n",
    "output.save(\"fileoutput.mp3\")\n",
    "\n",
    "fh.close()\n",
    "\n",
    "\n",
    "os.system(\"start fileoutput.mp3\")"
   ]
  },
  {
   "cell_type": "code",
   "execution_count": null,
   "id": "2dcca4d1",
   "metadata": {},
   "outputs": [],
   "source": []
  },
  {
   "cell_type": "code",
   "execution_count": null,
   "id": "8db8c923",
   "metadata": {},
   "outputs": [],
   "source": [
    "from gtts import gTTS \n",
    "  \n",
    "\n",
    "import os \n",
    "\n",
    "fh = open(\"Demo.txt\", 'r')\n",
    "\n",
    "myText = fh.read() \n",
    "\n",
    "# Google Speech Language Codes\n",
    "\n",
    "language = 'hi'\n",
    "\n",
    "output = gTTS(text=myText, lang=language, slow=False)\n",
    "\n",
    "output.save(\"fileoutput.mp3\")\n",
    "\n",
    "fh.close()\n",
    "\n",
    "\n",
    "os.system(\"start fileoutput.mp3\")"
   ]
  },
  {
   "cell_type": "code",
   "execution_count": null,
   "id": "f00573a9",
   "metadata": {},
   "outputs": [],
   "source": []
  }
 ],
 "metadata": {
  "kernelspec": {
   "display_name": "Python 3 (ipykernel)",
   "language": "python",
   "name": "python3"
  },
  "language_info": {
   "codemirror_mode": {
    "name": "ipython",
    "version": 3
   },
   "file_extension": ".py",
   "mimetype": "text/x-python",
   "name": "python",
   "nbconvert_exporter": "python",
   "pygments_lexer": "ipython3",
   "version": "3.9.12"
  }
 },
 "nbformat": 4,
 "nbformat_minor": 5
}
